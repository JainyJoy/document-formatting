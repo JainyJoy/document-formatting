{
 "cells": [
  {
   "cell_type": "code",
   "execution_count": 30,
   "metadata": {},
   "outputs": [],
   "source": [
    "import os\n",
    "import sys\n",
    "import time\n",
    "import base64\n",
    "import uuid\n",
    "import pandas as pd\n",
    "from zipfile import ZipFile\n",
    "from lxml import etree\n",
    "import xml.etree.ElementTree as ET\n",
    "\n",
    "utilities_dir = '/Users/kd/Workspace/python/helpers'\n",
    "sys.path.append(utilities_dir)\n",
    "\n",
    "from file_directory_utils import (create_directory, read_directory_files, get_subdirectories, get_all_file_paths)\n"
   ]
  },
  {
   "cell_type": "code",
   "execution_count": 31,
   "metadata": {},
   "outputs": [],
   "source": [
    "input_filepath = '/Users/kd/Workspace/python/DOCX/document-formatting/data/input/template_1.docx'\n",
    "output_dir     = '/Users/kd/Workspace/python/DOCX/document-formatting/data/output'\n",
    "filename       = os.path.splitext(os.path.basename(input_filepath))[0]\n"
   ]
  },
  {
   "cell_type": "code",
   "execution_count": 32,
   "metadata": {},
   "outputs": [],
   "source": [
    "def get_string_xmltree(xml):\n",
    "    return etree.tostring(xml)\n",
    "\n",
    "def get_xml_tree(xml_string):\n",
    "    return etree.fromstring(xml_string)\n",
    "\n",
    "def get_xmltree(filepath, parse='xml'):\n",
    "    if parse == 'html':\n",
    "        parser = etree.HTMLParser()\n",
    "        tree   = etree.parse(open(filepath, mode='r', encoding='utf-8'), parser)\n",
    "        return tree\n",
    "    else:\n",
    "        with open(filepath,'r') as file:\n",
    "            xml_string    = file.read()\n",
    "            return etree.fromstring(bytes(xml_string, encoding='utf-8'))\n",
    "    return None\n",
    "\n",
    "def check_element_is(element, type_char):\n",
    "    word_schema1 = 'http://www.w3.org/1999/xhtml'\n",
    "    word_schema2 = 'http://purl.oclc.org/ooxml/wordprocessingml/main'\n",
    "     \n",
    "    return (element.tag == '{%s}%s' % (word_schema1, type_char)) or (element.tag == '{%s}%s' % (word_schema2, type_char))\n",
    "\n",
    "def check_element_is(element, type_char):     \n",
    "    return (element.tag == type_char)\n",
    "\n",
    "def get_specific_tags(node, type_char):\n",
    "    nodes = []\n",
    "    for elem in node.iter():\n",
    "        if check_element_is(elem, type_char):\n",
    "            nodes.append(elem)\n",
    "    return nodes\n"
   ]
  },
  {
   "cell_type": "code",
   "execution_count": 33,
   "metadata": {},
   "outputs": [],
   "source": [
    "def extract_docx(filepath, working_dir):\n",
    "    filename       = os.path.splitext(os.path.basename(filepath))[0]\n",
    "    extract_dir    = os.path.join(working_dir, filename)\n",
    "    \n",
    "    with ZipFile(filepath, 'r') as file:\n",
    "        file.extractall(path=extract_dir)\n",
    "        filenames = file.namelist()\n",
    "    \n",
    "    return extract_dir, filenames\n",
    "\n",
    "def save_docx(extracted_dir, filenames, output_filename):\n",
    "    with ZipFile(output_filename, 'w') as docx:\n",
    "        for filename in filenames: \n",
    "            docx.write(os.path.join(extracted_dir, filename), filename)"
   ]
  },
  {
   "cell_type": "code",
   "execution_count": 34,
   "metadata": {},
   "outputs": [],
   "source": [
    "extracted_dir, filenames = extract_docx(input_filepath, output_dir)\n",
    "\n"
   ]
  },
  {
   "cell_type": "code",
   "execution_count": 36,
   "metadata": {},
   "outputs": [],
   "source": [
    "document_xml             = get_xmltree(os.path.join(extracted_dir, 'word', 'document.xml'))\n",
    "# get_string_xmltree(document_xml)"
   ]
  },
  {
   "cell_type": "code",
   "execution_count": 20,
   "metadata": {},
   "outputs": [],
   "source": [
    "from lxml.etree import Element, SubElement, QName, tounicode\n",
    "    \n",
    "class DOCX_NS_NSDEF_FACTORY:\n",
    "    def __init__(self, ns, nsdef):\n",
    "        self.ns      = ns\n",
    "        self.nsdef   = nsdef\n",
    "        self.name    = None\n",
    "        self.attribs = []\n",
    "        self.root    = None\n",
    "\n",
    "    def add_name(self, name):\n",
    "        self.name = name\n",
    "    \n",
    "    def add_attribs(self, without_qname, value):\n",
    "        self.attribs.append({'qname': QName(self.ns, without_qname), 'val':value})\n",
    "        \n",
    "    def get_node(self):\n",
    "        if len(self.attribs) > 0:\n",
    "            attrib = {}\n",
    "            for attr in self.attribs:\n",
    "                self.root.set(attr['qname'], attr['val'])\n",
    "\n",
    "        return self.root\n",
    "    \n",
    "    def add_child(self, parent, child):\n",
    "        return parent.append(child)\n",
    "    \n",
    "    def create_root_node(self, name):\n",
    "        self.name = name\n",
    "        self.attribs = []\n",
    "        self.root = Element(QName(self.ns, self.name), nsmap={self.nsdef:self.ns})\n",
    "\n",
    "class DOCX_NS_W_FACTORY(DOCX_NS_NSDEF_FACTORY):\n",
    "    def __init__(self):\n",
    "        self.ns     = 'http://schemas.openxmlformats.org/wordprocessingml/2006/main'\n",
    "        self.nsdef  = 'w'\n",
    "        super().__init__(self.ns, self.nsdef)\n",
    "    \n",
    "class DOCX_NS_PIC_FACTORY(DOCX_NS_NSDEF_FACTORY):\n",
    "    def __init__(self):\n",
    "        self.ns    = 'http://schemas.openxmlformats.org/drawingml/2006/picture'\n",
    "        self.nsdef = 'pic'\n",
    "        super().__init__(self.ns, self.nsdef)\n",
    "        \n",
    "class DOCX_NS_A_FACTORY(DOCX_NS_NSDEF_FACTORY):\n",
    "    def __init__(self):\n",
    "        self.ns    = 'http://schemas.openxmlformats.org/drawingml/2006/picture'\n",
    "        self.nsdef = 'a'\n",
    "        super().__init__(self.ns, self.nsdef)\n"
   ]
  },
  {
   "cell_type": "code",
   "execution_count": 21,
   "metadata": {},
   "outputs": [],
   "source": [
    "class PageSection (DOCX_NS_W_FACTORY):\n",
    "    def __init__(self):\n",
    "        super().__init__()\n",
    "\n",
    "    def get_node(self):\n",
    "        '''\n",
    "            <w:sectPr w:rsidR=\"00A66D74\" w:rsidSect=\"00034616\">\n",
    "            <w:pgSz w:w=\"11893\" w:h=\"16840\"/>\n",
    "            <w:pgMar w:top=\"720\" w:right=\"720\" w:bottom=\"720\" w:left=\"720\" w:header=\"720\" w:footer=\"720\" w:gutter=\"0\"/>\n",
    "            <w:cols w:space=\"720\"/>\n",
    "            <w:docGrid w:linePitch=\"360\"/>\n",
    "            </w:sectPr>\n",
    "        '''\n",
    "        self.create_root_node('sectPr')\n",
    "        self.add_attribs('rsidR', '00A66D74')\n",
    "        self.add_attribs('rsidSect', '00034616')\n",
    "        root = super().get_node()\n",
    "        \n",
    "        self.create_root_node('pgSz')\n",
    "        self.add_attribs('w', '11893')\n",
    "        self.add_attribs('h', '16840')\n",
    "        self.add_child(root, super().get_node())\n",
    "        \n",
    "        self.create_root_node('pgMar')\n",
    "        self.add_attribs('top', '720')\n",
    "        self.add_attribs('right', '720')\n",
    "        self.add_attribs('bottom', '720')\n",
    "        self.add_attribs('left', '720')\n",
    "        self.add_attribs('header', '720')\n",
    "        self.add_attribs('footer', '720')\n",
    "        self.add_attribs('gutter', '0')        \n",
    "        self.add_child(root, super().get_node())\n",
    "\n",
    "        self.create_root_node('cols')\n",
    "        self.add_attribs('space', '720')\n",
    "        self.add_child(root, super().get_node())\n",
    "\n",
    "        self.create_root_node('docGrid')\n",
    "        self.add_attribs('linePitch', '360')\n",
    "        self.add_child(root, super().get_node())\n",
    "        \n",
    "        return root\n"
   ]
  },
  {
   "cell_type": "code",
   "execution_count": 37,
   "metadata": {},
   "outputs": [
    {
     "name": "stdout",
     "output_type": "stream",
     "text": [
      "<w:sectPr xmlns:w=\"http://schemas.openxmlformats.org/wordprocessingml/2006/main\" w:rsidR=\"00A66D74\" w:rsidSect=\"00034616\">\n",
      "  <w:pgSz w:w=\"11893\" w:h=\"16840\"/>\n",
      "  <w:pgMar w:top=\"720\" w:right=\"720\" w:bottom=\"720\" w:left=\"720\" w:header=\"720\" w:footer=\"720\" w:gutter=\"0\"/>\n",
      "  <w:cols w:space=\"720\"/>\n",
      "  <w:docGrid w:linePitch=\"360\"/>\n",
      "</w:sectPr>\n",
      "\n"
     ]
    }
   ],
   "source": [
    "node = PageSection()\n",
    "print (tounicode(node.get_node(), pretty_print=True))"
   ]
  },
  {
   "cell_type": "code",
   "execution_count": 28,
   "metadata": {},
   "outputs": [],
   "source": [
    "class A_NODE (DOCX_NS_A_FACTORY):\n",
    "    def __init__(self):\n",
    "        super().__init__()\n",
    "    \n",
    "    def get_node_blip(self):\n",
    "        '''\n",
    "            <a:blip r:embed=\"rId8\">\n",
    "                <a:extLst>\n",
    "                    <a:ext uri=\"{28A0092B-C50C-407E-A947-70E740481C1C}\"/>\n",
    "                </a:extLst>\n",
    "            </a:blip>\n",
    "        '''\n",
    "        self.create_root_node('blip')\n",
    "        self.add_attribs('embed', 'rId8')\n",
    "        blip = super().get_node()\n",
    "        \n",
    "        return blip\n",
    "        \n",
    "        \n",
    "\n",
    "class Pic (DOCX_NS_PIC_FACTORY):\n",
    "    def __init__(self):\n",
    "        super().__init__()\n",
    "        \n",
    "    def get_node(self):\n",
    "        '''\n",
    "        <pic:pic\n",
    "            xmlns:pic=\"http://schemas.openxmlformats.org/drawingml/2006/picture\">\n",
    "            <pic:nvPicPr>\n",
    "                <pic:cNvPr id=\"0\" name=\"Picture 1\"/>\n",
    "                <pic:cNvPicPr>\n",
    "                    <a:picLocks noChangeAspect=\"1\" noChangeArrowheads=\"1\"/>\n",
    "                </pic:cNvPicPr>\n",
    "            </pic:nvPicPr>\n",
    "            <pic:blipFill>\n",
    "                <a:blip r:embed=\"rId8\">\n",
    "                    <a:extLst>\n",
    "                        <a:ext uri=\"{28A0092B-C50C-407E-A947-70E740481C1C}\"/>\n",
    "                    </a:extLst>\n",
    "                </a:blip>\n",
    "                <a:srcRect/>\n",
    "                <a:stretch>\n",
    "                    <a:fillRect/>\n",
    "                </a:stretch>\n",
    "            </pic:blipFill>\n",
    "            <pic:spPr bwMode=\"auto\">\n",
    "                <a:xfrm>\n",
    "                    <a:off x=\"0\" y=\"0\"/>\n",
    "                    <a:ext cx=\"4181475\" cy=\"5353050\"/>\n",
    "                </a:xfrm>\n",
    "                <a:prstGeom prst=\"rect\">\n",
    "                    <a:avLst/>\n",
    "                </a:prstGeom>\n",
    "                <a:noFill/>\n",
    "            </pic:spPr>\n",
    "        </pic:pic>\n",
    "        '''\n",
    "        self.create_root_node('pic')\n",
    "        pic = super().get_node()\n",
    "        \n",
    "        self.create_root_node('nvPicPr')\n",
    "        nvPicPr = super().get_node()\n",
    "        \n",
    "        self.create_root_node('cNvPr')\n",
    "        cNvPr   = super().get_node()\n",
    "        \n",
    "        self.create_root_node('cNvPicPr')\n",
    "        cNvPicPr = super().get_node()\n",
    "        \n",
    "        self.create_root_node('')\n",
    "        \n",
    "        return root"
   ]
  },
  {
   "cell_type": "code",
   "execution_count": 29,
   "metadata": {},
   "outputs": [
    {
     "name": "stdout",
     "output_type": "stream",
     "text": [
      "<a:blip xmlns:a=\"http://schemas.openxmlformats.org/drawingml/2006/picture\" a:embed=\"rId8\"/>\n",
      "\n"
     ]
    }
   ],
   "source": [
    "node = A_NODE()\n",
    "print (tounicode(node.get_node_blip(), pretty_print=True))\n"
   ]
  },
  {
   "cell_type": "code",
   "execution_count": 77,
   "metadata": {},
   "outputs": [
    {
     "name": "stdout",
     "output_type": "stream",
     "text": [
      "<w:sectPr xmlns:w=\"http://schemas.openxmlformats.org/wordprocessingml/2006/main\" w:rsidR=\"00A66D74\" w:rsidSect=\"00034616\"/>\n",
      "\n"
     ]
    }
   ],
   "source": [
    "factory = DOCX_NS_W_FACTORY('sectPr')\n",
    "factory.add_attribs('rsidR', '00A66D74')\n",
    "factory.add_attribs('rsidSect', '00034616')\n",
    "section = factory.get_node()\n",
    "\n",
    "factory = DOCX_NS_W_FACTORY('sectPr')\n",
    "\n",
    "print (tounicode(p, pretty_print=True))\n"
   ]
  },
  {
   "cell_type": "code",
   "execution_count": 36,
   "metadata": {},
   "outputs": [
    {
     "name": "stdout",
     "output_type": "stream",
     "text": [
      "<s:Envelope xmlns:a=\"http://www.w3.org/2005/08/addressing\" xmlns:s=\"http://www.w3.org/2003/05/soap-envelope\">\n",
      "  <s:Header>\n",
      "    <a:Action notUnderstand=\"1\" s:val=\"1\"/>\n",
      "  </s:Header>\n",
      "</s:Envelope>\n",
      "\n"
     ]
    }
   ],
   "source": [
    "from lxml.etree import Element, SubElement, QName, tounicode\n",
    "class XMLNamespaces:\n",
    "   s = 'http://www.w3.org/2003/05/soap-envelope'\n",
    "   a = 'http://www.w3.org/2005/08/addressing'\n",
    "\n",
    "root = Element(QName(XMLNamespaces.s, 'Envelope'), nsmap={'s':XMLNamespaces.s, 'a':XMLNamespaces.a})\n",
    "\n",
    "header = SubElement(root, QName(XMLNamespaces.s, 'Header'))\n",
    "action  = SubElement(header, QName(XMLNamespaces.a, 'Action'), attrib={\n",
    "    'notUnderstand':'1',\n",
    "    QName(XMLNamespaces.s, 'mustUnderstand'):'1'\n",
    "    })\n",
    "print (tounicode(root, pretty_print=True))\n"
   ]
  },
  {
   "cell_type": "code",
   "execution_count": 39,
   "metadata": {},
   "outputs": [
    {
     "name": "stdout",
     "output_type": "stream",
     "text": [
      "<w:p xmlns:w=\"http://schemas.openxmlformats.org/wordprocessingml/2006/main\">\n",
      "  <w:pPr>\n",
      "    <w:framePr w:h=\"3500\" w:hAnchor=\"page\" w:w=\"3500\" w:wrap=\"auto\" w:xAlign=\"right\" w:yAlign=\"top\"/>\n",
      "  </w:pPr>\n",
      "</w:p>\n",
      "\n"
     ]
    }
   ],
   "source": [
    "from lxml.etree import Element, SubElement, QName, tounicode\n",
    "\n",
    "class DOCX_NS:\n",
    "    w = 'http://schemas.openxmlformats.org/wordprocessingml/2006/main'\n",
    "    \n",
    "p        = Element(QName(DOCX_NS.w, 'p'), nsmap={'w':DOCX_NS.w})\n",
    "pPr      = SubElement(p, QName(DOCX_NS.w, 'pPr'))\n",
    "\n",
    "framePr  = SubElement(pPr, QName(DOCX_NS.w, 'framePr'), attrib = {\n",
    "        QName(DOCX_NS.w, 'w'):'3500',\n",
    "        QName(DOCX_NS.w, 'h'):'3500',\n",
    "        QName(DOCX_NS.w, 'wrap'):'auto',\n",
    "        QName(DOCX_NS.w, 'hAnchor'):'page',\n",
    "        QName(DOCX_NS.w, 'xAlign'):'right',\n",
    "        QName(DOCX_NS.w, 'yAlign'):'top',\n",
    "    })\n",
    "\n",
    "rPr      = SubElement(pPr, QName(DOCX_NS.w, 'rPr'), attrib = {})\n",
    "\n",
    "print (tounicode(p, pretty_print=True))\n"
   ]
  },
  {
   "cell_type": "code",
   "execution_count": null,
   "metadata": {},
   "outputs": [],
   "source": []
  },
  {
   "cell_type": "code",
   "execution_count": null,
   "metadata": {},
   "outputs": [],
   "source": []
  },
  {
   "cell_type": "code",
   "execution_count": null,
   "metadata": {},
   "outputs": [],
   "source": []
  },
  {
   "cell_type": "code",
   "execution_count": null,
   "metadata": {},
   "outputs": [],
   "source": []
  },
  {
   "cell_type": "code",
   "execution_count": 25,
   "metadata": {},
   "outputs": [],
   "source": [
    "#save_docx(extracted_dir, filenames, os.path.join(output_dir, \"kd.docx\"))"
   ]
  }
 ],
 "metadata": {
  "kernelspec": {
   "display_name": "Python 3.5.6 64-bit ('cv3': conda)",
   "language": "python",
   "name": "python35664bitcv3conda56b31b492c17456d86703f6408b0e697"
  },
  "language_info": {
   "codemirror_mode": {
    "name": "ipython",
    "version": 3
   },
   "file_extension": ".py",
   "mimetype": "text/x-python",
   "name": "python",
   "nbconvert_exporter": "python",
   "pygments_lexer": "ipython3",
   "version": "3.5.6"
  }
 },
 "nbformat": 4,
 "nbformat_minor": 2
}
