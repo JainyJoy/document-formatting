{
 "cells": [
  {
   "cell_type": "code",
   "execution_count": 10,
   "metadata": {},
   "outputs": [],
   "source": [
    "import os\n",
    "import sys\n",
    "import time\n",
    "import base64\n",
    "import uuid\n",
    "import json\n",
    "import codecs\n",
    "\n",
    "utilities_dir = '/Users/kd/Workspace/python/helpers'\n",
    "sys.path.append(utilities_dir)\n",
    "\n",
    "from file_directory_utils import (create_directory, read_directory_files, get_subdirectories)"
   ]
  },
  {
   "cell_type": "code",
   "execution_count": 1,
   "metadata": {},
   "outputs": [
    {
     "name": "stdout",
     "output_type": "stream",
     "text": [
      "Collecting html\n",
      "  Downloading https://files.pythonhosted.org/packages/4a/df/0e3d22d50ee43274eb5116f49972a164d853bb3ab305a69a0540b6292252/html-1.16.tar.gz\n",
      "    Complete output from command python setup.py egg_info:\n",
      "    Traceback (most recent call last):\n",
      "      File \"<string>\", line 1, in <module>\n",
      "      File \"/Users/kd/miniconda3/envs/cv3/lib/python3.5/site-packages/setuptools/__init__.py\", line 16, in <module>\n",
      "        from setuptools.dist import Distribution, Feature\n",
      "      File \"/Users/kd/miniconda3/envs/cv3/lib/python3.5/site-packages/setuptools/dist.py\", line 24, in <module>\n",
      "        from setuptools.depends import Require\n",
      "      File \"/Users/kd/miniconda3/envs/cv3/lib/python3.5/site-packages/setuptools/depends.py\", line 7, in <module>\n",
      "        from .py33compat import Bytecode\n",
      "      File \"/Users/kd/miniconda3/envs/cv3/lib/python3.5/site-packages/setuptools/py33compat.py\", line 11, in <module>\n",
      "        from setuptools.extern.six.moves import html_parser\n",
      "      File \"/Users/kd/miniconda3/envs/cv3/lib/python3.5/site-packages/setuptools/_vendor/six.py\", line 92, in __get__\n",
      "        result = self._resolve()\n",
      "      File \"/Users/kd/miniconda3/envs/cv3/lib/python3.5/site-packages/setuptools/_vendor/six.py\", line 115, in _resolve\n",
      "        return _import_module(self.mod)\n",
      "      File \"/Users/kd/miniconda3/envs/cv3/lib/python3.5/site-packages/setuptools/_vendor/six.py\", line 82, in _import_module\n",
      "        __import__(name)\n",
      "    ImportError: No module named 'html.parser'; 'html' is not a package\n",
      "    \n",
      "    ----------------------------------------\n",
      "\u001b[31mCommand \"python setup.py egg_info\" failed with error code 1 in /private/var/folders/sq/0436g1b12yq00850_z60x66c0000gp/T/pip-install-hv_0zgbr/html/\u001b[0m\n",
      "\u001b[33mYou are using pip version 10.0.1, however version 20.2.3 is available.\n",
      "You should consider upgrading via the 'pip install --upgrade pip' command.\u001b[0m\n"
     ]
    }
   ],
   "source": [
    "!pip install html"
   ]
  },
  {
   "cell_type": "code",
   "execution_count": 28,
   "metadata": {},
   "outputs": [],
   "source": [
    "base_dir        = os.path.dirname(os.getcwd())\n",
    "input_dir       = os.path.join(base_dir, 'data', 'input')\n",
    "output_dir      = os.path.join(base_dir, 'data', 'output')\n",
    "filename        = 'judgement.json'\n",
    "\n",
    "input_filepath  = os.path.join(input_dir, filename)"
   ]
  },
  {
   "cell_type": "code",
   "execution_count": 30,
   "metadata": {},
   "outputs": [],
   "source": [
    "def get_pages(filepath):\n",
    "    data  = json.load(codecs.open(filepath, 'r', 'utf-8-sig'))\n",
    "    pages = data['data']\n",
    "    return pages"
   ]
  },
  {
   "cell_type": "code",
   "execution_count": 32,
   "metadata": {},
   "outputs": [
    {
     "name": "stdout",
     "output_type": "stream",
     "text": [
      "document has 54 pages\n"
     ]
    }
   ],
   "source": [
    "pages =  get_pages(input_filepath)   \n",
    "print('document has %d pages' % (len(pages)))"
   ]
  },
  {
   "cell_type": "code",
   "execution_count": 34,
   "metadata": {},
   "outputs": [],
   "source": [
    "for page in pages:\n",
    "    images       = page['images']\n",
    "    texts        = page['text_blocks']\n",
    "    page_num     = page['page_no']\n",
    "    page_width   = page['page_width']\n",
    "    page_height  = page['page_height']\n"
   ]
  },
  {
   "cell_type": "code",
   "execution_count": 72,
   "metadata": {},
   "outputs": [],
   "source": [
    "for index, text in enumerate(texts):\n",
    "    if index == 2:\n",
    "        d1 = text\n",
    "        break"
   ]
  },
  {
   "cell_type": "code",
   "execution_count": 73,
   "metadata": {},
   "outputs": [
    {
     "data": {
      "text/plain": [
       "{'attrib': None,\n",
       " 'avg_line_height': 17,\n",
       " 'block_id': 2,\n",
       " 'block_identifier': '6b07d046-55f0-4ef1-aa2c-eaa34d1f7f83FC-BM-TOK-15999679899361382',\n",
       " 'children': [{'attrib': '',\n",
       "   'children': None,\n",
       "   'font_color': '#000000',\n",
       "   'font_family': 'Arial',\n",
       "   'font_size': 18,\n",
       "   'text': 'made available to those officers in service or those who had moved the ',\n",
       "   'text_height': 17,\n",
       "   'text_left': 189,\n",
       "   'text_top': 112,\n",
       "   'text_width': 600},\n",
       "  {'attrib': '',\n",
       "   'children': None,\n",
       "   'font_color': '#000000',\n",
       "   'font_family': 'Arial',\n",
       "   'font_size': 18,\n",
       "   'text': 'Delhi High Court by filing the Writ Petitions  and those  who had retired ',\n",
       "   'text_height': 17,\n",
       "   'text_left': 189,\n",
       "   'text_top': 155,\n",
       "   'text_width': 601},\n",
       "  {'attrib': '',\n",
       "   'children': None,\n",
       "   'font_color': '#000000',\n",
       "   'font_family': 'Arial',\n",
       "   'font_size': 18,\n",
       "   'text': 'during the course of the pendency of the proceedings.  ',\n",
       "   'text_height': 17,\n",
       "   'text_left': 189,\n",
       "   'text_top': 198,\n",
       "   'text_width': 459}],\n",
       " 'data_type': 'text_blocks',\n",
       " 'file_locale': 'en',\n",
       " 'font_color': '#000000',\n",
       " 'font_family': 'Arial',\n",
       " 'font_size': 18,\n",
       " 'job_id': 'FC-BM-TOK-15999679899361382',\n",
       " 'page_info': {'page_height': 1263, 'page_no': 54, 'page_width': 892},\n",
       " 'text': 'made available to those officers in service or those who had moved the  Delhi High Court by filing the Writ Petitions  and those  who had retired  during the course of the pendency of the proceedings.  ',\n",
       " 'text_height': 103,\n",
       " 'text_left': 189,\n",
       " 'text_top': 112,\n",
       " 'text_width': 601,\n",
       " 'tokenized_sentences': [{'sentence_id': '53_2_0',\n",
       "   'src_text': 'made available to those officers in service or those who had moved the  Delhi High Court by filing the Writ Petitions  and those  who had retired  during the course of the pendency of the proceedings.'}],\n",
       " 'underline': 0}"
      ]
     },
     "execution_count": 73,
     "metadata": {},
     "output_type": "execute_result"
    }
   ],
   "source": [
    "d1"
   ]
  },
  {
   "cell_type": "code",
   "execution_count": 75,
   "metadata": {},
   "outputs": [
    {
     "name": "stdout",
     "output_type": "stream",
     "text": [
      "made available to those officers in service or those who had moved the \n",
      "Delhi High Court by filing the Writ Petitions  and those  who had retired \n",
      "during the course of the pendency of the proceedings.  \n"
     ]
    }
   ],
   "source": [
    "for child in d1['children']:\n",
    "    print(child['text'])"
   ]
  },
  {
   "cell_type": "code",
   "execution_count": 74,
   "metadata": {},
   "outputs": [],
   "source": [
    "from docx import Document\n",
    "from docx.shared import Pt\n",
    "from docx.shared import Inches\n",
    "from docx.enum.text import WD_ALIGN_PARAGRAPH\n",
    "document  = Document()"
   ]
  },
  {
   "cell_type": "code",
   "execution_count": 82,
   "metadata": {},
   "outputs": [],
   "source": [
    "paragraph = document.add_paragraph()\n",
    "paragraph_format = paragraph.paragraph_format\n",
    "paragraph_format.alignment = WD_ALIGN_PARAGRAPH.LEFT\n",
    "run = paragraph.add_run()\n",
    "for child in d1['children']:\n",
    "    paragraph.text   = child['text']\n",
    "\n",
    "    font = run.font\n",
    "    font.name = d1['font_family']\n",
    "    font.size = Pt(d1['font_size'])"
   ]
  },
  {
   "cell_type": "code",
   "execution_count": 83,
   "metadata": {},
   "outputs": [],
   "source": [
    "document.save('test.docx')"
   ]
  },
  {
   "cell_type": "code",
   "execution_count": 62,
   "metadata": {},
   "outputs": [
    {
     "name": "stdout",
     "output_type": "stream",
     "text": [
      "PORTRAIT (0) 7772400 10058400\n"
     ]
    }
   ],
   "source": [
    "sections = document.sections\n",
    "for section in sections:\n",
    "    print(section.orientation, section.page_width, section.page_height)"
   ]
  },
  {
   "cell_type": "code",
   "execution_count": null,
   "metadata": {},
   "outputs": [],
   "source": []
  }
 ],
 "metadata": {
  "kernelspec": {
   "display_name": "Python 3.5.6 64-bit ('cv3': conda)",
   "language": "python",
   "name": "python35664bitcv3conda56b31b492c17456d86703f6408b0e697"
  },
  "language_info": {
   "codemirror_mode": {
    "name": "ipython",
    "version": 3
   },
   "file_extension": ".py",
   "mimetype": "text/x-python",
   "name": "python",
   "nbconvert_exporter": "python",
   "pygments_lexer": "ipython3",
   "version": "3.5.6"
  }
 },
 "nbformat": 4,
 "nbformat_minor": 2
}
