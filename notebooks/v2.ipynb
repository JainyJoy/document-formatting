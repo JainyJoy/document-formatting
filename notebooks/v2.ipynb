{
 "cells": [
  {
   "cell_type": "code",
   "execution_count": 1,
   "metadata": {},
   "outputs": [],
   "source": [
    "import os\n",
    "import sys"
   ]
  },
  {
   "cell_type": "code",
   "execution_count": 2,
   "metadata": {},
   "outputs": [],
   "source": [
    "base_dir        = os.path.dirname(os.getcwd())\n",
    "sys.path.append(base_dir)\n"
   ]
  },
  {
   "cell_type": "code",
   "execution_count": 3,
   "metadata": {},
   "outputs": [],
   "source": [
    "from src.xml.base import DOCX_ELEMENT_FACTORY, NS_DEF_TYPE"
   ]
  },
  {
   "cell_type": "code",
   "execution_count": 6,
   "metadata": {},
   "outputs": [],
   "source": [
    "class Section():\n",
    "    def __init__(self):\n",
    "        f = DOCX_ELEMENT_FACTORY()\n",
    "        super().__init__()\n",
    "    \n",
    "    def get(self):\n",
    "        '''\n",
    "            <w:sectPr w:rsidR=\"00A66D74\" w:rsidSect=\"00034616\">\n",
    "            <w:pgSz w:w=\"11893\" w:h=\"16840\"/>\n",
    "            <w:pgMar w:top=\"720\" w:right=\"720\" w:bottom=\"720\" w:left=\"720\" w:header=\"720\" w:footer=\"720\" w:gutter=\"0\"/>\n",
    "            <w:cols w:space=\"720\"/>\n",
    "            <w:docGrid w:linePitch=\"360\"/>\n",
    "            </w:sectPr>\n",
    "        '''\n",
    "        root = f.create(NS_DEF_TYPE.w, 'sectPr')\n",
    "        self.add_attribs('rsidR', '00A66D74')\n",
    "        self.add_attribs('rsidSect', '00034616')\n",
    "        root = super().get(root)\n",
    "        \n",
    "#         self.create(NS_DEF_TYPE.w, 'pgSz')\n",
    "#         self.add_attribs('w', '11893')\n",
    "#         self.add_attribs('h', '16840')\n",
    "#         self.add_child(root, super().get())\n",
    "        \n",
    "#         self.create(NS_DEF_TYPE.w, 'pgMar')\n",
    "#         self.add_attribs('top', '720')\n",
    "#         self.add_attribs('right', '720')\n",
    "#         self.add_attribs('bottom', '720')\n",
    "#         self.add_attribs('left', '720')\n",
    "#         self.add_attribs('header', '720')\n",
    "#         self.add_attribs('footer', '720')\n",
    "#         self.add_attribs('gutter', '0')        \n",
    "#         self.add_child(root, super().get())\n",
    "\n",
    "#         self.create(NS_DEF_TYPE.w, 'cols')\n",
    "#         self.add_attribs('space', '720')\n",
    "#         self.add_child(root, super().get())\n",
    "\n",
    "#         self.create_root_node('docGrid')\n",
    "#         self.add_attribs('linePitch', '360')\n",
    "#         self.add_child(root, super().get())\n",
    "        \n",
    "        return root"
   ]
  },
  {
   "cell_type": "code",
   "execution_count": 7,
   "metadata": {},
   "outputs": [],
   "source": [
    "from lxml.etree import tounicode\n",
    "node = Section()\n",
    "# print (tounicode(node.get(), pretty_print=True))"
   ]
  },
  {
   "cell_type": "code",
   "execution_count": null,
   "metadata": {},
   "outputs": [],
   "source": []
  }
 ],
 "metadata": {
  "kernelspec": {
   "display_name": "Python 3.5.6 64-bit ('cv3': conda)",
   "language": "python",
   "name": "python35664bitcv3conda56b31b492c17456d86703f6408b0e697"
  },
  "language_info": {
   "codemirror_mode": {
    "name": "ipython",
    "version": 3
   },
   "file_extension": ".py",
   "mimetype": "text/x-python",
   "name": "python",
   "nbconvert_exporter": "python",
   "pygments_lexer": "ipython3",
   "version": "3.5.6"
  }
 },
 "nbformat": 4,
 "nbformat_minor": 2
}
